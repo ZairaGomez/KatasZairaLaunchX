{
 "cells": [
  {
   "cell_type": "markdown",
   "metadata": {},
   "source": [
    "# Ejercicio - Crear un paquete"
   ]
  },
  {
   "cell_type": "markdown",
   "metadata": {},
   "source": [
    "zairagomez@MacBook-Pro-de-Zaira ~ % python3 -m venv env \n",
    "zairagomez@MacBook-Pro-de-Zaira ~ % source env/bin/activate\n",
    "(env) zairagomez@MacBook-Pro-de-Zaira ~ % pip freeze\n",
    "python-dateutil==2.8.2\n",
    "six==1.16.0\n",
    "(env) zairagomez@MacBook-Pro-de-Zaira ~ % pip install python-dateutil\n",
    "Requirement already satisfied: python-dateutil in ./env/lib/python3.9/site-packages (2.8.2)\n",
    "Requirement already satisfied: six>=1.5 in ./env/lib/python3.9/site-packages (from python-dateutil) (1.16.0)\n",
    "WARNING: You are using pip version 21.3.1; however, version 22.0.3 is available.\n",
    "You should consider upgrading via the '/Users/zairagomez/env/bin/python3.9 -m pip install --upgrade pip' command.\n",
    "(env) zairagomez@MacBook-Pro-de-Zaira ~ % pip freeze\n",
    "python-dateutil==2.8.2\n",
    "six==1.16.0\n",
    "(env) zairagomez@MacBook-Pro-de-Zaira ~ % deactivate\n",
    "zairagomez@MacBook-Pro-de-Zaira ~ % "
   ]
  },
  {
   "cell_type": "markdown",
   "metadata": {},
   "source": [
    "La creación de programas se maneja desde códigos escritos, son mejor conocidas como bibliotecas que forman parte del proyecto, esto nos permite obtener o mantener los recursos necesarios en la realización de dicho proyecto; creando un entorno virtual venv."
   ]
  }
 ],
 "metadata": {
  "interpreter": {
   "hash": "aee8b7b246df8f9039afb4144a1f6fd8d2ca17a180786b69acc140d282b71a49"
  },
  "kernelspec": {
   "display_name": "Python 3.9.10 64-bit",
   "language": "python",
   "name": "python3"
  },
  "language_info": {
   "codemirror_mode": {
    "name": "ipython",
    "version": 3
   },
   "file_extension": ".py",
   "mimetype": "text/x-python",
   "name": "python",
   "nbconvert_exporter": "python",
   "pygments_lexer": "ipython3",
   "version": "3.9.10"
  },
  "orig_nbformat": 4
 },
 "nbformat": 4,
 "nbformat_minor": 2
}
